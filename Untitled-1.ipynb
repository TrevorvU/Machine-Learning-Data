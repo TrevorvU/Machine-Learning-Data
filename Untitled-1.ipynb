{
 "cells": [
  {
   "cell_type": "code",
   "execution_count": 36,
   "metadata": {},
   "outputs": [
    {
     "data": {
      "image/png": "[encoded data removed]",
      "text/plain": [
       "<Figure size 432x288 with 4 Axes>"
      ]
     },
     "metadata": {
      "needs_background": "light"
     },
     "output_type": "display_data"
    }
   ],
   "source": [
    "import pandas as pd\n",
    "import numpy as np\n",
    "import matplotlib.pyplot as plt\n",
    "import seaborn as sas\n",
    "from sklearn import metrics\n",
    "\n",
    "\n",
    "\n",
    "\n",
    "#df = pd.read_csv('Case_PRB.csv')\n",
    "#a_df.head()\n",
    "\n",
    "attributes = [\"location\", \"total_cases\", \"new_cases\"]\n",
    "#names kan je ook weglaten vooral als je veel kolommen hebt - \n",
    "df = pd.read_csv('Case_PRB.csv',names=attributes,header=0,low_memory=False)\n",
    "df.columns = attributes\n",
    "#Met head print je de content van je data\n",
    "#df.head(5)\n",
    "#df.dtypes\n",
    "#df.describe()\n",
    "#ook eeen onderdeel van preprocessing is het verwijderen van outliers \n",
    "\n",
    "#Histogram hiermee kan je de verdeling van je data zien\n",
    "n_bins = 6\n",
    "fig, axs = plt.subplots(2, 2)\n",
    "axs[0, 0].hist(df['total_cases'], bins = n_bins)\n",
    "axs[0, 0].set_title('Total Cases')\n",
    "axs[0, 1].hist(df['total_cases'], bins = n_bins)\n",
    "axs[0, 1].set_title('Total Cases')\n",
    "axs[1, 0].hist(df['total_cases'], bins = n_bins)\n",
    "axs[1, 0].set_title('Total Cases')\n",
    "axs[1, 1].hist(df['total_cases'], bins = n_bins)\n",
    "axs[1, 1].set_title('Total Cases')\n",
    "#https://pandas.pydata.org/pandas-docs/stable/user_guide/10min.html\n",
    "#https://matplotlib.org/stable/gallery/animation/animated_histogram.html#sphx-glr-gallery-animation-animated-histogram-py\n",
    "#https://towardsdatascience.com/random-forest-in-python-24d0893d51c0\n",
    "\n",
    "fig.tight_layout(pad=1.0) #rechtsboven kan je de specifieke afbeelding saven\n",
    "\n",
    "#BoxPlots elke box heeft zijn eigen klasse\n",
    "#eindigt op 19:44 van Werksessie 1 "
   ]
  }
 ],
 "metadata": {
  "interpreter": {
   "hash": "31f2aee4e71d21fbe5cf8b01ff0e069b9275f58929596ceb00d14d90e3e16cd6"
  },
  "kernelspec": {
   "display_name": "Python 3.8.9 64-bit",
   "language": "python",
   "name": "python3"
  },
  "language_info": {
   "codemirror_mode": {
    "name": "ipython",
    "version": 3
   },
   "file_extension": ".py",
   "mimetype": "text/x-python",
   "name": "python",
   "nbconvert_exporter": "python",
   "pygments_lexer": "ipython3",
   "version": "3.8.5"
  },
  "orig_nbformat": 4
 },
 "nbformat": 4,
 "nbformat_minor": 2
}
